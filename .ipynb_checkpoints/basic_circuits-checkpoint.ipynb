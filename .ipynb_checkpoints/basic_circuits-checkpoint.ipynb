{
 "cells": [
  {
   "cell_type": "markdown",
   "id": "38df8df1",
   "metadata": {},
   "source": [
    "# Basic Circuits"
   ]
  },
  {
   "cell_type": "markdown",
   "id": "a28eb116",
   "metadata": {},
   "source": [
    "## Create a Circuit"
   ]
  },
  {
   "cell_type": "markdown",
   "id": "8d41d454",
   "metadata": {},
   "source": [
    "To create a Circuit we first need to define how many **Qubits** it has and how many **output bits**."
   ]
  },
  {
   "cell_type": "code",
   "execution_count": 11,
   "id": "bc481189",
   "metadata": {},
   "outputs": [],
   "source": [
    "# First we import the QuantumCircuit Library\n",
    "from qiskit import QuantumCircuit, execute, Aer\n",
    "\n",
    "# Create a Quantum Circuit with 8 qubits and 8 output bits\n",
    "num_qubits = 8\n",
    "num_output_bits = 8\n",
    "quantum_circuit = QuantumCircuit(num_qubits, num_output_bits)\n"
   ]
  },
  {
   "cell_type": "markdown",
   "id": "d72514ea",
   "metadata": {},
   "source": [
    "### Measure the output\n",
    "To measure the output we define what qubit to read and in what bit to set the output.\n"
   ]
  },
  {
   "cell_type": "code",
   "execution_count": 12,
   "id": "53daff79",
   "metadata": {},
   "outputs": [],
   "source": [
    "# quantum_circuit.measure(0,0)\n",
    "# quantum_circuit.measure(1,1)\n",
    "# etc\n",
    "\n",
    "# We comment it so we don't affect the next example (the alternative)."
   ]
  },
  {
   "cell_type": "markdown",
   "id": "71fea8fe",
   "metadata": {},
   "source": [
    "Alternative"
   ]
  },
  {
   "cell_type": "code",
   "execution_count": 13,
   "id": "bff9e222",
   "metadata": {},
   "outputs": [],
   "source": [
    "for j in range(8):\n",
    "    quantum_circuit.measure(j,j)"
   ]
  },
  {
   "cell_type": "markdown",
   "id": "b17097a4",
   "metadata": {},
   "source": [
    "### Draw the circuit\n",
    "To draw the circuit we have a very simple method:"
   ]
  },
  {
   "cell_type": "code",
   "execution_count": 14,
   "id": "bdbd68dc",
   "metadata": {},
   "outputs": [
    {
     "data": {
      "text/html": [
       "<pre style=\"word-wrap: normal;white-space: pre;background: #fff0;line-height: 1.1;font-family: &quot;Courier New&quot;,Courier,monospace\">     ┌─┐                     \n",
       "q_0: ┤M├─────────────────────\n",
       "     └╥┘┌─┐                  \n",
       "q_1: ─╫─┤M├──────────────────\n",
       "      ║ └╥┘┌─┐               \n",
       "q_2: ─╫──╫─┤M├───────────────\n",
       "      ║  ║ └╥┘┌─┐            \n",
       "q_3: ─╫──╫──╫─┤M├────────────\n",
       "      ║  ║  ║ └╥┘┌─┐         \n",
       "q_4: ─╫──╫──╫──╫─┤M├─────────\n",
       "      ║  ║  ║  ║ └╥┘┌─┐      \n",
       "q_5: ─╫──╫──╫──╫──╫─┤M├──────\n",
       "      ║  ║  ║  ║  ║ └╥┘┌─┐   \n",
       "q_6: ─╫──╫──╫──╫──╫──╫─┤M├───\n",
       "      ║  ║  ║  ║  ║  ║ └╥┘┌─┐\n",
       "q_7: ─╫──╫──╫──╫──╫──╫──╫─┤M├\n",
       "      ║  ║  ║  ║  ║  ║  ║ └╥┘\n",
       "c: 8/═╩══╩══╩══╩══╩══╩══╩══╩═\n",
       "      0  1  2  3  4  5  6  7 </pre>"
      ],
      "text/plain": [
       "     ┌─┐                     \n",
       "q_0: ┤M├─────────────────────\n",
       "     └╥┘┌─┐                  \n",
       "q_1: ─╫─┤M├──────────────────\n",
       "      ║ └╥┘┌─┐               \n",
       "q_2: ─╫──╫─┤M├───────────────\n",
       "      ║  ║ └╥┘┌─┐            \n",
       "q_3: ─╫──╫──╫─┤M├────────────\n",
       "      ║  ║  ║ └╥┘┌─┐         \n",
       "q_4: ─╫──╫──╫──╫─┤M├─────────\n",
       "      ║  ║  ║  ║ └╥┘┌─┐      \n",
       "q_5: ─╫──╫──╫──╫──╫─┤M├──────\n",
       "      ║  ║  ║  ║  ║ └╥┘┌─┐   \n",
       "q_6: ─╫──╫──╫──╫──╫──╫─┤M├───\n",
       "      ║  ║  ║  ║  ║  ║ └╥┘┌─┐\n",
       "q_7: ─╫──╫──╫──╫──╫──╫──╫─┤M├\n",
       "      ║  ║  ║  ║  ║  ║  ║ └╥┘\n",
       "c: 8/═╩══╩══╩══╩══╩══╩══╩══╩═\n",
       "      0  1  2  3  4  5  6  7 "
      ]
     },
     "execution_count": 14,
     "metadata": {},
     "output_type": "execute_result"
    }
   ],
   "source": [
    "quantum_circuit.draw()"
   ]
  },
  {
   "cell_type": "markdown",
   "id": "d6ce474d",
   "metadata": {},
   "source": [
    "### Plot the results of measurement\n",
    "If we want to plot on an histogram what we have measured we can do so with <code>plot_histogram(\\<number-to-plot\\>)</code>.</br>\n",
    "As we are using a Quantum Simulator, it will execute a number of times (1024 times) to get a result."
   ]
  },
  {
   "cell_type": "code",
   "execution_count": 20,
   "id": "8c7a75c7",
   "metadata": {},
   "outputs": [
    {
     "name": "stdout",
     "output_type": "stream",
     "text": [
      "{'00000000': 1024}\n"
     ]
    },
    {
     "data": {
      "image/png": "[encoded data removed]",
      "text/plain": [
       "<Figure size 504x360 with 1 Axes>"
      ]
     },
     "execution_count": 20,
     "metadata": {},
     "output_type": "execute_result"
    }
   ],
   "source": [
    "from qiskit.visualization import plot_histogram\n",
    "\n",
    "counts = execute(quantum_circuit, Aer.get_backend('qasm_simulator')).result().get_counts()\n",
    "print(counts)\n",
    "\n",
    "# plot_histogram(data, figsize=(7, 5), color=None, number_to_keep=None, \n",
    "#     sort='asc', target_string=None, legend=None, bar_labels=True, title=None, ax=None)\n",
    "\n",
    "plot_histogram(counts, title = \"Measurement results\")"
   ]
  },
  {
   "cell_type": "markdown",
   "id": "116d55c5",
   "metadata": {},
   "source": [
    "## Encoding an input"
   ]
  },
  {
   "cell_type": "markdown",
   "id": "9996852a",
   "metadata": {},
   "source": [
    "### Not-Gate"
   ]
  },
  {
   "cell_type": "markdown",
   "id": "7e49c46d",
   "metadata": {},
   "source": [
    "To perform a Not-Gate on our circuit, we use the method <code>QuantumCircuit.x()<\\code>"
   ]
  },
  {
   "cell_type": "code",
   "execution_count": 28,
   "id": "17437ec2",
   "metadata": {},
   "outputs": [
    {
     "data": {
      "text/html": [
       "<pre style=\"word-wrap: normal;white-space: pre;background: #fff0;line-height: 1.1;font-family: &quot;Courier New&quot;,Courier,monospace\">          \n",
       "q_0: ─────\n",
       "          \n",
       "q_1: ─────\n",
       "          \n",
       "q_2: ─────\n",
       "          \n",
       "q_3: ─────\n",
       "          \n",
       "q_4: ─────\n",
       "          \n",
       "q_5: ─────\n",
       "          \n",
       "q_6: ─────\n",
       "     ┌───┐\n",
       "q_7: ┤ X ├\n",
       "     └───┘</pre>"
      ],
      "text/plain": [
       "          \n",
       "q_0: ─────\n",
       "          \n",
       "q_1: ─────\n",
       "          \n",
       "q_2: ─────\n",
       "          \n",
       "q_3: ─────\n",
       "          \n",
       "q_4: ─────\n",
       "          \n",
       "q_5: ─────\n",
       "          \n",
       "q_6: ─────\n",
       "     ┌───┐\n",
       "q_7: ┤ X ├\n",
       "     └───┘"
      ]
     },
     "execution_count": 28,
     "metadata": {},
     "output_type": "execute_result"
    }
   ],
   "source": [
    "quantum_circuit_2 = QuantumCircuit(num_qubits)\n",
    "quantum_circuit_2.x(7)\n",
    "\n",
    "quantum_circuit_2.draw()"
   ]
  },
  {
   "cell_type": "markdown",
   "id": "035a2955",
   "metadata": {},
   "source": [
    "### Combine defined Circuits\n",
    "We have before created quantum_circuit, which measures all 8 Qubits and sets the output.</br>\n",
    "We now have created a second circuit, which performs a Not-Gate on the last Qubit.\n",
    "\n",
    "Both circuits can be combined to create a single one with the steps from one and the other."
   ]
  },
  {
   "cell_type": "code",
   "execution_count": 36,
   "id": "1629c174",
   "metadata": {},
   "outputs": [
    {
     "data": {
      "text/html": [
       "<pre style=\"word-wrap: normal;white-space: pre;background: #fff0;line-height: 1.1;font-family: &quot;Courier New&quot;,Courier,monospace\">          ┌─┐                     \n",
       "q_0: ─────┤M├─────────────────────\n",
       "          └╥┘┌─┐                  \n",
       "q_1: ──────╫─┤M├──────────────────\n",
       "           ║ └╥┘┌─┐               \n",
       "q_2: ──────╫──╫─┤M├───────────────\n",
       "           ║  ║ └╥┘┌─┐            \n",
       "q_3: ──────╫──╫──╫─┤M├────────────\n",
       "           ║  ║  ║ └╥┘┌─┐         \n",
       "q_4: ──────╫──╫──╫──╫─┤M├─────────\n",
       "           ║  ║  ║  ║ └╥┘┌─┐      \n",
       "q_5: ──────╫──╫──╫──╫──╫─┤M├──────\n",
       "           ║  ║  ║  ║  ║ └╥┘┌─┐   \n",
       "q_6: ──────╫──╫──╫──╫──╫──╫─┤M├───\n",
       "     ┌───┐ ║  ║  ║  ║  ║  ║ └╥┘┌─┐\n",
       "q_7: ┤ X ├─╫──╫──╫──╫──╫──╫──╫─┤M├\n",
       "     └───┘ ║  ║  ║  ║  ║  ║  ║ └╥┘\n",
       "c: 8/══════╩══╩══╩══╩══╩══╩══╩══╩═\n",
       "           0  1  2  3  4  5  6  7 </pre>"
      ],
      "text/plain": [
       "          ┌─┐                     \n",
       "q_0: ─────┤M├─────────────────────\n",
       "          └╥┘┌─┐                  \n",
       "q_1: ──────╫─┤M├──────────────────\n",
       "           ║ └╥┘┌─┐               \n",
       "q_2: ──────╫──╫─┤M├───────────────\n",
       "           ║  ║ └╥┘┌─┐            \n",
       "q_3: ──────╫──╫──╫─┤M├────────────\n",
       "           ║  ║  ║ └╥┘┌─┐         \n",
       "q_4: ──────╫──╫──╫──╫─┤M├─────────\n",
       "           ║  ║  ║  ║ └╥┘┌─┐      \n",
       "q_5: ──────╫──╫──╫──╫──╫─┤M├──────\n",
       "           ║  ║  ║  ║  ║ └╥┘┌─┐   \n",
       "q_6: ──────╫──╫──╫──╫──╫──╫─┤M├───\n",
       "     ┌───┐ ║  ║  ║  ║  ║  ║ └╥┘┌─┐\n",
       "q_7: ┤ X ├─╫──╫──╫──╫──╫──╫──╫─┤M├\n",
       "     └───┘ ║  ║  ║  ║  ║  ║  ║ └╥┘\n",
       "c: 8/══════╩══╩══╩══╩══╩══╩══╩══╩═\n",
       "           0  1  2  3  4  5  6  7 "
      ]
     },
     "execution_count": 36,
     "metadata": {},
     "output_type": "execute_result"
    }
   ],
   "source": [
    "quantum_circuit_combined = quantum_circuit_2 + quantum_circuit\n",
    "quantum_circuit_combined.draw()"
   ]
  },
  {
   "cell_type": "code",
   "execution_count": 37,
   "id": "c30eb719",
   "metadata": {},
   "outputs": [
    {
     "data": {
      "image/png": "[encoded data removed]",
      "text/plain": [
       "<Figure size 504x360 with 1 Axes>"
      ]
     },
     "execution_count": 37,
     "metadata": {},
     "output_type": "execute_result"
    }
   ],
   "source": [
    "# And we can check the results as before:\n",
    "counts = execute(quantum_circuit_combined,Aer.get_backend('qasm_simulator')).result().get_counts()\n",
    "\n",
    "plot_histogram(counts)"
   ]
  },
  {
   "cell_type": "markdown",
   "id": "85c830b2",
   "metadata": {},
   "source": [
    "### CNOT-Gate\n",
    "Like a classical XOR Gate. In Qiskit its name is <code>cx</code>"
   ]
  },
  {
   "cell_type": "code",
   "execution_count": 38,
   "id": "d1600b05",
   "metadata": {},
   "outputs": [
    {
     "data": {
      "text/html": [
       "<pre style=\"word-wrap: normal;white-space: pre;background: #fff0;line-height: 1.1;font-family: &quot;Courier New&quot;,Courier,monospace\">          \n",
       "q_0: ──■──\n",
       "     ┌─┴─┐\n",
       "q_1: ┤ X ├\n",
       "     └───┘</pre>"
      ],
      "text/plain": [
       "          \n",
       "q_0: ──■──\n",
       "     ┌─┴─┐\n",
       "q_1: ┤ X ├\n",
       "     └───┘"
      ]
     },
     "execution_count": 38,
     "metadata": {},
     "output_type": "execute_result"
    }
   ],
   "source": [
    "qc_cnot = QuantumCircuit(2)\n",
    "qc_cnot.cx(0,1)\n",
    "qc_cnot.draw()"
   ]
  },
  {
   "cell_type": "markdown",
   "id": "7a05406d",
   "metadata": {},
   "source": [
    "### CNOT Table\n",
    "We are going to try all four possible situations and check the output"
   ]
  },
  {
   "cell_type": "markdown",
   "id": "bfa37440",
   "metadata": {},
   "source": [
    "![CNOT-Table](img/img001.png)"
   ]
  },
  {
   "cell_type": "markdown",
   "id": "55603f2b",
   "metadata": {},
   "source": [
    "#### Case 00 -> 00"
   ]
  },
  {
   "cell_type": "code",
   "execution_count": 48,
   "id": "208fe01b",
   "metadata": {},
   "outputs": [
    {
     "data": {
      "text/html": [
       "<pre style=\"word-wrap: normal;white-space: pre;background: #fff0;line-height: 1.1;font-family: &quot;Courier New&quot;,Courier,monospace\">          ┌─┐   \n",
       "q_0: ──■──┤M├───\n",
       "     ┌─┴─┐└╥┘┌─┐\n",
       "q_1: ┤ X ├─╫─┤M├\n",
       "     └───┘ ║ └╥┘\n",
       "c: 2/══════╩══╩═\n",
       "           0  1 </pre>"
      ],
      "text/plain": [
       "          ┌─┐   \n",
       "q_0: ──■──┤M├───\n",
       "     ┌─┴─┐└╥┘┌─┐\n",
       "q_1: ┤ X ├─╫─┤M├\n",
       "     └───┘ ║ └╥┘\n",
       "c: 2/══════╩══╩═\n",
       "           0  1 "
      ]
     },
     "execution_count": 48,
     "metadata": {},
     "output_type": "execute_result"
    }
   ],
   "source": [
    "qc00 = QuantumCircuit(2,2)\n",
    "qc00.cx(0,1)\n",
    "qc00.measure(0,0)\n",
    "qc00.measure(1,1)\n",
    "\n",
    "qc00.draw()"
   ]
  },
  {
   "cell_type": "code",
   "execution_count": 49,
   "id": "a846f07c",
   "metadata": {},
   "outputs": [
    {
     "data": {
      "image/png": "[encoded data removed]",
      "text/plain": [
       "<Figure size 504x360 with 1 Axes>"
      ]
     },
     "execution_count": 49,
     "metadata": {},
     "output_type": "execute_result"
    }
   ],
   "source": [
    "counts = execute(qc00, Aer.get_backend('qasm_simulator')).result().get_counts()\n",
    "plot_histogram(counts, title = \"Measurement results\")"
   ]
  },
  {
   "cell_type": "markdown",
   "id": "15a9e829",
   "metadata": {},
   "source": [
    "#### Case 01 -> 11"
   ]
  },
  {
   "cell_type": "code",
   "execution_count": 53,
   "id": "f86405cb",
   "metadata": {},
   "outputs": [
    {
     "data": {
      "text/html": [
       "<pre style=\"word-wrap: normal;white-space: pre;background: #fff0;line-height: 1.1;font-family: &quot;Courier New&quot;,Courier,monospace\">     ┌───┐     ┌─┐   \n",
       "q_0: ┤ X ├──■──┤M├───\n",
       "     └───┘┌─┴─┐└╥┘┌─┐\n",
       "q_1: ─────┤ X ├─╫─┤M├\n",
       "          └───┘ ║ └╥┘\n",
       "c: 2/═══════════╩══╩═\n",
       "                0  1 </pre>"
      ],
      "text/plain": [
       "     ┌───┐     ┌─┐   \n",
       "q_0: ┤ X ├──■──┤M├───\n",
       "     └───┘┌─┴─┐└╥┘┌─┐\n",
       "q_1: ─────┤ X ├─╫─┤M├\n",
       "          └───┘ ║ └╥┘\n",
       "c: 2/═══════════╩══╩═\n",
       "                0  1 "
      ]
     },
     "execution_count": 53,
     "metadata": {},
     "output_type": "execute_result"
    }
   ],
   "source": [
    "qc01 = QuantumCircuit(2,2)\n",
    "qc01.x(0) # Remember it goes from right to left, so 01 means 0 is qubit one and 1 is qubit zero.\n",
    "qc01.cx(0,1)\n",
    "qc01.measure(0,0)\n",
    "qc01.measure(1,1)\n",
    "\n",
    "qc01.draw()"
   ]
  },
  {
   "cell_type": "code",
   "execution_count": 54,
   "id": "a617613e",
   "metadata": {},
   "outputs": [
    {
     "data": {
      "image/png": "[encoded data removed]",
      "text/plain": [
       "<Figure size 504x360 with 1 Axes>"
      ]
     },
     "execution_count": 54,
     "metadata": {},
     "output_type": "execute_result"
    }
   ],
   "source": [
    "counts = execute(qc01, Aer.get_backend('qasm_simulator')).result().get_counts()\n",
    "plot_histogram(counts, title = \"Measurement results\")"
   ]
  },
  {
   "cell_type": "markdown",
   "id": "76b3e670",
   "metadata": {},
   "source": [
    "#### Case 10 -> 10"
   ]
  },
  {
   "cell_type": "code",
   "execution_count": 56,
   "id": "0ddf2136",
   "metadata": {},
   "outputs": [
    {
     "data": {
      "text/html": [
       "<pre style=\"word-wrap: normal;white-space: pre;background: #fff0;line-height: 1.1;font-family: &quot;Courier New&quot;,Courier,monospace\">               ┌─┐   \n",
       "q_0: ───────■──┤M├───\n",
       "     ┌───┐┌─┴─┐└╥┘┌─┐\n",
       "q_1: ┤ X ├┤ X ├─╫─┤M├\n",
       "     └───┘└───┘ ║ └╥┘\n",
       "c: 2/═══════════╩══╩═\n",
       "                0  1 </pre>"
      ],
      "text/plain": [
       "               ┌─┐   \n",
       "q_0: ───────■──┤M├───\n",
       "     ┌───┐┌─┴─┐└╥┘┌─┐\n",
       "q_1: ┤ X ├┤ X ├─╫─┤M├\n",
       "     └───┘└───┘ ║ └╥┘\n",
       "c: 2/═══════════╩══╩═\n",
       "                0  1 "
      ]
     },
     "execution_count": 56,
     "metadata": {},
     "output_type": "execute_result"
    }
   ],
   "source": [
    "qc02 = QuantumCircuit(2,2)\n",
    "qc02.x(1) # Remember it goes from right to left, so 01 means 0 is qubit one and 1 is qubit zero.\n",
    "qc02.cx(0,1)\n",
    "qc02.measure(0,0)\n",
    "qc02.measure(1,1)\n",
    "\n",
    "qc02.draw()"
   ]
  },
  {
   "cell_type": "code",
   "execution_count": 57,
   "id": "b933dfde",
   "metadata": {},
   "outputs": [
    {
     "data": {
      "image/png": "[encoded data removed]",
      "text/plain": [
       "<Figure size 504x360 with 1 Axes>"
      ]
     },
     "execution_count": 57,
     "metadata": {},
     "output_type": "execute_result"
    }
   ],
   "source": [
    "counts = execute(qc02, Aer.get_backend('qasm_simulator')).result().get_counts()\n",
    "plot_histogram(counts, title = \"Measurement results\")"
   ]
  },
  {
   "cell_type": "markdown",
   "id": "cf61a81c",
   "metadata": {},
   "source": [
    "#### Case 11 -> 01"
   ]
  },
  {
   "cell_type": "code",
   "execution_count": 65,
   "id": "714bb3c4",
   "metadata": {},
   "outputs": [
    {
     "data": {
      "text/html": [
       "<pre style=\"word-wrap: normal;white-space: pre;background: #fff0;line-height: 1.1;font-family: &quot;Courier New&quot;,Courier,monospace\">     ┌───┐     ┌─┐   \n",
       "q_0: ┤ X ├──■──┤M├───\n",
       "     ├───┤┌─┴─┐└╥┘┌─┐\n",
       "q_1: ┤ X ├┤ X ├─╫─┤M├\n",
       "     └───┘└───┘ ║ └╥┘\n",
       "c: 2/═══════════╩══╩═\n",
       "                0  1 </pre>"
      ],
      "text/plain": [
       "     ┌───┐     ┌─┐   \n",
       "q_0: ┤ X ├──■──┤M├───\n",
       "     ├───┤┌─┴─┐└╥┘┌─┐\n",
       "q_1: ┤ X ├┤ X ├─╫─┤M├\n",
       "     └───┘└───┘ ║ └╥┘\n",
       "c: 2/═══════════╩══╩═\n",
       "                0  1 "
      ]
     },
     "execution_count": 65,
     "metadata": {},
     "output_type": "execute_result"
    }
   ],
   "source": [
    "qc03 = QuantumCircuit(2,2)\n",
    "qc03.x(0) # Remember it goes from right to left, so 01 means 0 is qubit one and 1 is qubit zero.\n",
    "qc03.x(1)\n",
    "qc03.cx(0,1)\n",
    "qc03.measure(0,0)\n",
    "qc03.measure(1,1)\n",
    "\n",
    "\n",
    "qc03.draw()"
   ]
  },
  {
   "cell_type": "code",
   "execution_count": 63,
   "id": "3fcea6bb",
   "metadata": {},
   "outputs": [
    {
     "data": {
      "image/png": "[encoded data removed]",
      "text/plain": [
       "<Figure size 504x360 with 1 Axes>"
      ]
     },
     "execution_count": 63,
     "metadata": {},
     "output_type": "execute_result"
    }
   ],
   "source": [
    "counts = execute(qc03, Aer.get_backend('qasm_simulator')).result().get_counts()\n",
    "plot_histogram(counts, title = \"Measurement results\")"
   ]
  },
  {
   "cell_type": "markdown",
   "id": "76a2eff9",
   "metadata": {},
   "source": [
    "----"
   ]
  },
  {
   "cell_type": "markdown",
   "id": "fcfb91e2",
   "metadata": {},
   "source": [
    "#### **Important Measurement Note**: \n",
    "We can *measure* the other way round and the output would be the same. \n",
    "\n",
    "Also, remember how it is represented.  \n",
    "Qubits (Input) are **numbered** from right to left: Qx...q4,q3,q2,q1,q0  \n",
    "Bits (Output) are **numbered** \n",
    "\n",
    "\n",
    "So input 10011 => Q(0)=1, Q(1)=1, Q(2)=0, Q(3)=0, Q(4)=1"
   ]
  },
  {
   "cell_type": "code",
   "execution_count": 100,
   "id": "728386c1",
   "metadata": {},
   "outputs": [
    {
     "name": "stdout",
     "output_type": "stream",
     "text": [
      "1\n"
     ]
    },
    {
     "data": {
      "text/html": [
       "<pre style=\"word-wrap: normal;white-space: pre;background: #fff0;line-height: 1.1;font-family: &quot;Courier New&quot;,Courier,monospace\">     ┌───┐     ┌─┐   \n",
       "q_0: ┤ X ├──■──┤M├───\n",
       "     ├───┤┌─┴─┐└╥┘┌─┐\n",
       "q_1: ┤ X ├┤ X ├─╫─┤M├\n",
       "     └───┘└───┘ ║ └╥┘\n",
       "c: 2/═══════════╩══╩═\n",
       "                0  1 </pre>"
      ],
      "text/plain": [
       "     ┌───┐     ┌─┐   \n",
       "q_0: ┤ X ├──■──┤M├───\n",
       "     ├───┤┌─┴─┐└╥┘┌─┐\n",
       "q_1: ┤ X ├┤ X ├─╫─┤M├\n",
       "     └───┘└───┘ ║ └╥┘\n",
       "c: 2/═══════════╩══╩═\n",
       "                0  1 "
      ]
     },
     "execution_count": 100,
     "metadata": {},
     "output_type": "execute_result"
    }
   ],
   "source": [
    "# Example\n",
    "qc03_ex = QuantumCircuit(2,2)\n",
    "qc03_ex.x(0) # Remember it goes from right to left, so 01 means 0 is qubit one and 1 is qubit zero.\n",
    "qc03_ex.x(1)\n",
    "qc03_ex.cx(0,1)\n",
    "\n",
    "# We do the measurement the other way round\n",
    "qc03_ex.measure(0,0)\n",
    "qc03_ex.measure(1,1)\n",
    "\n",
    "qc03_ex.draw()"
   ]
  },
  {
   "cell_type": "code",
   "execution_count": 68,
   "id": "8aa66274",
   "metadata": {},
   "outputs": [
    {
     "data": {
      "image/png": "[encoded data removed]",
      "text/plain": [
       "<Figure size 504x360 with 1 Axes>"
      ]
     },
     "execution_count": 68,
     "metadata": {},
     "output_type": "execute_result"
    }
   ],
   "source": [
    "# The ouput is the same\n",
    "counts = execute(qc03_ex, Aer.get_backend('qasm_simulator')).result().get_counts()\n",
    "plot_histogram(counts, title = \"Measurement results\")"
   ]
  },
  {
   "cell_type": "markdown",
   "id": "14693ff5",
   "metadata": {},
   "source": [
    "### Histogram\n",
    "It is also important to note that the numbers shown in the histogram represent the \"bit\" where the information of that Qubit is stored.\n",
    "\n",
    "So for example, we can start a Quantum Circuit with 2 Qubits and 5 output bits.    \n",
    "We will save the output of Qubit 0 in bit 0 and the output of Qubit 1 in bit 5.    \n",
    "Check the histogram image:"
   ]
  },
  {
   "cell_type": "code",
   "execution_count": 101,
   "id": "a1d3df8d",
   "metadata": {},
   "outputs": [
    {
     "name": "stdout",
     "output_type": "stream",
     "text": [
      "4\n"
     ]
    },
    {
     "data": {
      "text/html": [
       "<pre style=\"word-wrap: normal;white-space: pre;background: #fff0;line-height: 1.1;font-family: &quot;Courier New&quot;,Courier,monospace\">     ┌───┐┌─┐   \n",
       "q_0: ┤ X ├┤M├───\n",
       "     ├───┤└╥┘┌─┐\n",
       "q_1: ┤ X ├─╫─┤M├\n",
       "     └───┘ ║ └╥┘\n",
       "c: 5/══════╩══╩═\n",
       "           0  4 </pre>"
      ],
      "text/plain": [
       "     ┌───┐┌─┐   \n",
       "q_0: ┤ X ├┤M├───\n",
       "     ├───┤└╥┘┌─┐\n",
       "q_1: ┤ X ├─╫─┤M├\n",
       "     └───┘ ║ └╥┘\n",
       "c: 5/══════╩══╩═\n",
       "           0  4 "
      ]
     },
     "execution_count": 101,
     "metadata": {},
     "output_type": "execute_result"
    }
   ],
   "source": [
    "# 2 Qubits and 5 Output bits\n",
    "qc_hist = QuantumCircuit(2,5)\n",
    "\n",
    "# To have different values we perform an x in both\n",
    "qc_hist.x(0)\n",
    "qc_hist.x(1)\n",
    "\n",
    "# Save output of Qubit 0 in bit number 0\n",
    "qc_hist.measure(0,0)\n",
    "# Save output of Qubit 1 in bit number 4 (the fifth one)\n",
    "qc_hist.measure(1,4)\n",
    "\n",
    "qc_hist.draw()"
   ]
  },
  {
   "cell_type": "markdown",
   "id": "dbd8bfc9",
   "metadata": {},
   "source": [
    "## Half-Adder"
   ]
  },
  {
   "cell_type": "markdown",
   "id": "0b5257db",
   "metadata": {},
   "source": [
    "We are developing a half-adder.  \n",
    "The output should be:\n",
    "\n",
    "- 0000 -> 0000\n",
    "- 0001 -> 0110\n",
    "- 0010 -> 0101\n",
    "- 0011 -> 0011"
   ]
  },
  {
   "cell_type": "code",
   "execution_count": 97,
   "id": "6ff5be6e",
   "metadata": {},
   "outputs": [
    {
     "data": {
      "text/html": [
       "<pre style=\"word-wrap: normal;white-space: pre;background: #fff0;line-height: 1.1;font-family: &quot;Courier New&quot;,Courier,monospace\">           ░            ░ ┌─┐         \n",
       "q_0: ──────░───■────────░─┤M├─────────\n",
       "     ┌───┐ ░   │        ░ └╥┘┌─┐      \n",
       "q_1: ┤ X ├─░───┼────■───░──╫─┤M├──────\n",
       "     └───┘ ░ ┌─┴─┐┌─┴─┐ ░  ║ └╥┘┌─┐   \n",
       "q_2: ──────░─┤ X ├┤ X ├─░──╫──╫─┤M├───\n",
       "           ░ └───┘└───┘ ░  ║  ║ └╥┘┌─┐\n",
       "q_3: ──────░────────────░──╫──╫──╫─┤M├\n",
       "           ░            ░  ║  ║  ║ └╥┘\n",
       "c: 4/══════════════════════╩══╩══╩══╩═\n",
       "                           0  1  2  3 </pre>"
      ],
      "text/plain": [
       "           ░            ░ ┌─┐         \n",
       "q_0: ──────░───■────────░─┤M├─────────\n",
       "     ┌───┐ ░   │        ░ └╥┘┌─┐      \n",
       "q_1: ┤ X ├─░───┼────■───░──╫─┤M├──────\n",
       "     └───┘ ░ ┌─┴─┐┌─┴─┐ ░  ║ └╥┘┌─┐   \n",
       "q_2: ──────░─┤ X ├┤ X ├─░──╫──╫─┤M├───\n",
       "           ░ └───┘└───┘ ░  ║  ║ └╥┘┌─┐\n",
       "q_3: ──────░────────────░──╫──╫──╫─┤M├\n",
       "           ░            ░  ║  ║  ║ └╥┘\n",
       "c: 4/══════════════════════╩══╩══╩══╩═\n",
       "                           0  1  2  3 "
      ]
     },
     "execution_count": 97,
     "metadata": {},
     "output_type": "execute_result"
    }
   ],
   "source": [
    "qc_ha = QuantumCircuit(4,4)\n",
    "\n",
    "# Uncomment one of the four input options to test the output,\n",
    "\n",
    "# Intput 1: 00\n",
    "# ---\n",
    "\n",
    "# Intput 2: 01\n",
    "qc_ha.x(1)\n",
    "\n",
    "# Intput 3: 10\n",
    "# qc_ha.x(0) \n",
    "\n",
    "# Output 4: 11\n",
    "# qc_ha.x(0) \n",
    "# qc_ha.x(1) \n",
    "\n",
    "qc_ha.barrier()\n",
    "\n",
    "# use cnots to write the XOR of the inputs on qubit 2\n",
    "qc_ha.cx(0,2)\n",
    "qc_ha.cx(1,2)\n",
    "qc_ha.barrier()\n",
    "\n",
    "# extract outputs\n",
    "qc_ha.measure(0,0) # extract XOR value\n",
    "qc_ha.measure(1,1)\n",
    "qc_ha.measure(2,2)\n",
    "qc_ha.measure(3,3)\n",
    "\n",
    "\n",
    "qc_ha.draw()"
   ]
  },
  {
   "cell_type": "code",
   "execution_count": 98,
   "id": "3f7e94d3",
   "metadata": {},
   "outputs": [
    {
     "data": {
      "image/png": "[encoded data removed]",
      "text/plain": [
       "<Figure size 504x360 with 1 Axes>"
      ]
     },
     "execution_count": 98,
     "metadata": {},
     "output_type": "execute_result"
    }
   ],
   "source": [
    "counts = execute(qc_ha, Aer.get_backend('qasm_simulator')).result().get_counts()\n",
    "plot_histogram(counts, title = \"Measurement results\")"
   ]
  },
  {
   "cell_type": "code",
   "execution_count": null,
   "id": "4877ae36",
   "metadata": {},
   "outputs": [],
   "source": []
  }
 ],
 "metadata": {
  "kernelspec": {
   "display_name": "Python 3 (ipykernel)",
   "language": "python",
   "name": "python3"
  },
  "language_info": {
   "codemirror_mode": {
    "name": "ipython",
    "version": 3
   },
   "file_extension": ".py",
   "mimetype": "text/x-python",
   "name": "python",
   "nbconvert_exporter": "python",
   "pygments_lexer": "ipython3",
   "version": "3.9.6"
  }
 },
 "nbformat": 4,
 "nbformat_minor": 5
}
