{
 "cells": [
  {
   "cell_type": "markdown",
   "id": "85934aae",
   "metadata": {},
   "source": [
    "# Basic Circuits"
   ]
  },
  {
   "cell_type": "markdown",
   "id": "b0743e75",
   "metadata": {},
   "source": [
    "## Create a Circuit"
   ]
  },
  {
   "cell_type": "markdown",
   "id": "6876c4c7",
   "metadata": {},
   "source": [
    "To create a Circuit we first need to define how many **Qubits** it has and how many **output bits**."
   ]
  },
  {
   "cell_type": "code",
   "execution_count": 11,
   "id": "56e15b1b",
   "metadata": {},
   "outputs": [],
   "source": [
    "# First we import the QuantumCircuit Library\n",
    "from qiskit import QuantumCircuit, execute, Aer\n",
    "\n",
    "# Create a Quantum Circuit with 8 qubits and 8 output bits\n",
    "num_qubits = 8\n",
    "num_output_bits = 8\n",
    "quantum_circuit = QuantumCircuit(num_qubits, num_output_bits)\n"
   ]
  },
  {
   "cell_type": "markdown",
   "id": "1896b77d",
   "metadata": {},
   "source": [
    "### Measure the output\n",
    "To measure the output we define what qubit to read and in what bit to set the output.\n"
   ]
  },
  {
   "cell_type": "code",
   "execution_count": 12,
   "id": "efeef25c",
   "metadata": {},
   "outputs": [],
   "source": [
    "# quantum_circuit.measure(0,0)\n",
    "# quantum_circuit.measure(1,1)\n",
    "# etc\n",
    "\n",
    "# We comment it so we don't affect the next example (the alternative)."
   ]
  },
  {
   "cell_type": "markdown",
   "id": "8bc98335",
   "metadata": {},
   "source": [
    "Alternative"
   ]
  },
  {
   "cell_type": "code",
   "execution_count": 13,
   "id": "f7372bc7",
   "metadata": {},
   "outputs": [],
   "source": [
    "for j in range(8):\n",
    "    quantum_circuit.measure(j,j)"
   ]
  },
  {
   "cell_type": "markdown",
   "id": "710a3417",
   "metadata": {},
   "source": [
    "### Draw the circuit\n",
    "To draw the circuit we have a very simple method:"
   ]
  },
  {
   "cell_type": "code",
   "execution_count": 14,
   "id": "93a8a40c",
   "metadata": {},
   "outputs": [
    {
     "data": {
      "text/html": [
       "<pre style=\"word-wrap: normal;white-space: pre;background: #fff0;line-height: 1.1;font-family: &quot;Courier New&quot;,Courier,monospace\">     ┌─┐                     \n",
       "q_0: ┤M├─────────────────────\n",
       "     └╥┘┌─┐                  \n",
       "q_1: ─╫─┤M├──────────────────\n",
       "      ║ └╥┘┌─┐               \n",
       "q_2: ─╫──╫─┤M├───────────────\n",
       "      ║  ║ └╥┘┌─┐            \n",
       "q_3: ─╫──╫──╫─┤M├────────────\n",
       "      ║  ║  ║ └╥┘┌─┐         \n",
       "q_4: ─╫──╫──╫──╫─┤M├─────────\n",
       "      ║  ║  ║  ║ └╥┘┌─┐      \n",
       "q_5: ─╫──╫──╫──╫──╫─┤M├──────\n",
       "      ║  ║  ║  ║  ║ └╥┘┌─┐   \n",
       "q_6: ─╫──╫──╫──╫──╫──╫─┤M├───\n",
       "      ║  ║  ║  ║  ║  ║ └╥┘┌─┐\n",
       "q_7: ─╫──╫──╫──╫──╫──╫──╫─┤M├\n",
       "      ║  ║  ║  ║  ║  ║  ║ └╥┘\n",
       "c: 8/═╩══╩══╩══╩══╩══╩══╩══╩═\n",
       "      0  1  2  3  4  5  6  7 </pre>"
      ],
      "text/plain": [
       "     ┌─┐                     \n",
       "q_0: ┤M├─────────────────────\n",
       "     └╥┘┌─┐                  \n",
       "q_1: ─╫─┤M├──────────────────\n",
       "      ║ └╥┘┌─┐               \n",
       "q_2: ─╫──╫─┤M├───────────────\n",
       "      ║  ║ └╥┘┌─┐            \n",
       "q_3: ─╫──╫──╫─┤M├────────────\n",
       "      ║  ║  ║ └╥┘┌─┐         \n",
       "q_4: ─╫──╫──╫──╫─┤M├─────────\n",
       "      ║  ║  ║  ║ └╥┘┌─┐      \n",
       "q_5: ─╫──╫──╫──╫──╫─┤M├──────\n",
       "      ║  ║  ║  ║  ║ └╥┘┌─┐   \n",
       "q_6: ─╫──╫──╫──╫──╫──╫─┤M├───\n",
       "      ║  ║  ║  ║  ║  ║ └╥┘┌─┐\n",
       "q_7: ─╫──╫──╫──╫──╫──╫──╫─┤M├\n",
       "      ║  ║  ║  ║  ║  ║  ║ └╥┘\n",
       "c: 8/═╩══╩══╩══╩══╩══╩══╩══╩═\n",
       "      0  1  2  3  4  5  6  7 "
      ]
     },
     "execution_count": 14,
     "metadata": {},
     "output_type": "execute_result"
    }
   ],
   "source": [
    "quantum_circuit.draw()"
   ]
  },
  {
   "cell_type": "markdown",
   "id": "56b464ad",
   "metadata": {},
   "source": [
    "### Plot the results of measurement\n",
    "If we want to plot on an histogram what we have measured we can do so with <code>plot_histogram(\\<number-to-plot\\>)</code>.</br>\n",
    "As we are using a Quantum Simulator, it will execute a number of times (1024 times) to get a result."
   ]
  },
  {
   "cell_type": "code",
   "execution_count": 20,
   "id": "3d7b174a",
   "metadata": {},
   "outputs": [
    {
     "name": "stdout",
     "output_type": "stream",
     "text": [
      "{'00000000': 1024}\n"
     ]
    },
    {
     "data": {
      "image/png": "[encoded data removed]",
      "text/plain": [
       "<Figure size 504x360 with 1 Axes>"
      ]
     },
     "execution_count": 20,
     "metadata": {},
     "output_type": "execute_result"
    }
   ],
   "source": [
    "from qiskit.visualization import plot_histogram\n",
    "\n",
    "counts = execute(quantum_circuit, Aer.get_backend('qasm_simulator')).result().get_counts()\n",
    "print(counts)\n",
    "\n",
    "# plot_histogram(data, figsize=(7, 5), color=None, number_to_keep=None, \n",
    "#     sort='asc', target_string=None, legend=None, bar_labels=True, title=None, ax=None)\n",
    "\n",
    "plot_histogram(counts, title = \"Measurement results\")"
   ]
  },
  {
   "cell_type": "markdown",
   "id": "ac98c50a",
   "metadata": {},
   "source": [
    "## Encoding an input"
   ]
  },
  {
   "cell_type": "markdown",
   "id": "74d12b77",
   "metadata": {},
   "source": [
    "### Not-Gate"
   ]
  },
  {
   "cell_type": "markdown",
   "id": "3949c708",
   "metadata": {},
   "source": [
    "To perform a Not-Gate on our circuit, we use the method <code>QuantumCircuit.x()<\\code>"
   ]
  },
  {
   "cell_type": "code",
   "execution_count": 28,
   "id": "3580c850",
   "metadata": {},
   "outputs": [
    {
     "data": {
      "text/html": [
       "<pre style=\"word-wrap: normal;white-space: pre;background: #fff0;line-height: 1.1;font-family: &quot;Courier New&quot;,Courier,monospace\">          \n",
       "q_0: ─────\n",
       "          \n",
       "q_1: ─────\n",
       "          \n",
       "q_2: ─────\n",
       "          \n",
       "q_3: ─────\n",
       "          \n",
       "q_4: ─────\n",
       "          \n",
       "q_5: ─────\n",
       "          \n",
       "q_6: ─────\n",
       "     ┌───┐\n",
       "q_7: ┤ X ├\n",
       "     └───┘</pre>"
      ],
      "text/plain": [
       "          \n",
       "q_0: ─────\n",
       "          \n",
       "q_1: ─────\n",
       "          \n",
       "q_2: ─────\n",
       "          \n",
       "q_3: ─────\n",
       "          \n",
       "q_4: ─────\n",
       "          \n",
       "q_5: ─────\n",
       "          \n",
       "q_6: ─────\n",
       "     ┌───┐\n",
       "q_7: ┤ X ├\n",
       "     └───┘"
      ]
     },
     "execution_count": 28,
     "metadata": {},
     "output_type": "execute_result"
    }
   ],
   "source": [
    "quantum_circuit_2 = QuantumCircuit(num_qubits)\n",
    "quantum_circuit_2.x(7)\n",
    "\n",
    "quantum_circuit_2.draw()"
   ]
  },
  {
   "cell_type": "markdown",
   "id": "fdaff4da",
   "metadata": {},
   "source": [
    "### Combine defined Circuits\n",
    "We have before created quantum_circuit, which measures all 8 Qubits and sets the output.</br>\n",
    "We now have created a second circuit, which performs a Not-Gate on the last Qubit.\n",
    "\n",
    "Both circuits can be combined to create a single one with the steps from one and the other."
   ]
  },
  {
   "cell_type": "code",
   "execution_count": 36,
   "id": "61bbdb5f",
   "metadata": {},
   "outputs": [
    {
     "data": {
      "text/html": [
       "<pre style=\"word-wrap: normal;white-space: pre;background: #fff0;line-height: 1.1;font-family: &quot;Courier New&quot;,Courier,monospace\">          ┌─┐                     \n",
       "q_0: ─────┤M├─────────────────────\n",
       "          └╥┘┌─┐                  \n",
       "q_1: ──────╫─┤M├──────────────────\n",
       "           ║ └╥┘┌─┐               \n",
       "q_2: ──────╫──╫─┤M├───────────────\n",
       "           ║  ║ └╥┘┌─┐            \n",
       "q_3: ──────╫──╫──╫─┤M├────────────\n",
       "           ║  ║  ║ └╥┘┌─┐         \n",
       "q_4: ──────╫──╫──╫──╫─┤M├─────────\n",
       "           ║  ║  ║  ║ └╥┘┌─┐      \n",
       "q_5: ──────╫──╫──╫──╫──╫─┤M├──────\n",
       "           ║  ║  ║  ║  ║ └╥┘┌─┐   \n",
       "q_6: ──────╫──╫──╫──╫──╫──╫─┤M├───\n",
       "     ┌───┐ ║  ║  ║  ║  ║  ║ └╥┘┌─┐\n",
       "q_7: ┤ X ├─╫──╫──╫──╫──╫──╫──╫─┤M├\n",
       "     └───┘ ║  ║  ║  ║  ║  ║  ║ └╥┘\n",
       "c: 8/══════╩══╩══╩══╩══╩══╩══╩══╩═\n",
       "           0  1  2  3  4  5  6  7 </pre>"
      ],
      "text/plain": [
       "          ┌─┐                     \n",
       "q_0: ─────┤M├─────────────────────\n",
       "          └╥┘┌─┐                  \n",
       "q_1: ──────╫─┤M├──────────────────\n",
       "           ║ └╥┘┌─┐               \n",
       "q_2: ──────╫──╫─┤M├───────────────\n",
       "           ║  ║ └╥┘┌─┐            \n",
       "q_3: ──────╫──╫──╫─┤M├────────────\n",
       "           ║  ║  ║ └╥┘┌─┐         \n",
       "q_4: ──────╫──╫──╫──╫─┤M├─────────\n",
       "           ║  ║  ║  ║ └╥┘┌─┐      \n",
       "q_5: ──────╫──╫──╫──╫──╫─┤M├──────\n",
       "           ║  ║  ║  ║  ║ └╥┘┌─┐   \n",
       "q_6: ──────╫──╫──╫──╫──╫──╫─┤M├───\n",
       "     ┌───┐ ║  ║  ║  ║  ║  ║ └╥┘┌─┐\n",
       "q_7: ┤ X ├─╫──╫──╫──╫──╫──╫──╫─┤M├\n",
       "     └───┘ ║  ║  ║  ║  ║  ║  ║ └╥┘\n",
       "c: 8/══════╩══╩══╩══╩══╩══╩══╩══╩═\n",
       "           0  1  2  3  4  5  6  7 "
      ]
     },
     "execution_count": 36,
     "metadata": {},
     "output_type": "execute_result"
    }
   ],
   "source": [
    "quantum_circuit_combined = quantum_circuit_2 + quantum_circuit\n",
    "quantum_circuit_combined.draw()"
   ]
  },
  {
   "cell_type": "code",
   "execution_count": 37,
   "id": "9ac24c89",
   "metadata": {},
   "outputs": [
    {
     "data": {
      "image/png": "[encoded data removed]",
      "text/plain": [
       "<Figure size 504x360 with 1 Axes>"
      ]
     },
     "execution_count": 37,
     "metadata": {},
     "output_type": "execute_result"
    }
   ],
   "source": [
    "# And we can check the results as before:\n",
    "counts = execute(quantum_circuit_combined,Aer.get_backend('qasm_simulator')).result().get_counts()\n",
    "\n",
    "plot_histogram(counts)"
   ]
  },
  {
   "cell_type": "markdown",
   "id": "924540f1",
   "metadata": {},
   "source": [
    "### CNOT-Gate\n",
    "Like a classical XOR Gate. In Qiskit its name is <code>cx</code>"
   ]
  },
  {
   "cell_type": "code",
   "execution_count": 38,
   "id": "135daa02",
   "metadata": {},
   "outputs": [
    {
     "data": {
      "text/html": [
       "<pre style=\"word-wrap: normal;white-space: pre;background: #fff0;line-height: 1.1;font-family: &quot;Courier New&quot;,Courier,monospace\">          \n",
       "q_0: ──■──\n",
       "     ┌─┴─┐\n",
       "q_1: ┤ X ├\n",
       "     └───┘</pre>"
      ],
      "text/plain": [
       "          \n",
       "q_0: ──■──\n",
       "     ┌─┴─┐\n",
       "q_1: ┤ X ├\n",
       "     └───┘"
      ]
     },
     "execution_count": 38,
     "metadata": {},
     "output_type": "execute_result"
    }
   ],
   "source": [
    "qc_cnot = QuantumCircuit(2)\n",
    "qc_cnot.cx(0,1)\n",
    "qc_cnot.draw()"
   ]
  },
  {
   "cell_type": "markdown",
   "id": "9184adff",
   "metadata": {},
   "source": [
    "### CNOT Table\n",
    "We are going to try all four possible situations and check the output"
   ]
  },
  {
   "cell_type": "markdown",
   "id": "a45a7029",
   "metadata": {},
   "source": [
    "![CNOT-Table](img/img001.png)"
   ]
  },
  {
   "cell_type": "markdown",
   "id": "887dbaec",
   "metadata": {},
   "source": [
    "#### Case 00 -> 00"
   ]
  },
  {
   "cell_type": "code",
   "execution_count": 48,
   "id": "f50703c8",
   "metadata": {},
   "outputs": [
    {
     "data": {
      "text/html": [
       "<pre style=\"word-wrap: normal;white-space: pre;background: #fff0;line-height: 1.1;font-family: &quot;Courier New&quot;,Courier,monospace\">          ┌─┐   \n",
       "q_0: ──■──┤M├───\n",
       "     ┌─┴─┐└╥┘┌─┐\n",
       "q_1: ┤ X ├─╫─┤M├\n",
       "     └───┘ ║ └╥┘\n",
       "c: 2/══════╩══╩═\n",
       "           0  1 </pre>"
      ],
      "text/plain": [
       "          ┌─┐   \n",
       "q_0: ──■──┤M├───\n",
       "     ┌─┴─┐└╥┘┌─┐\n",
       "q_1: ┤ X ├─╫─┤M├\n",
       "     └───┘ ║ └╥┘\n",
       "c: 2/══════╩══╩═\n",
       "           0  1 "
      ]
     },
     "execution_count": 48,
     "metadata": {},
     "output_type": "execute_result"
    }
   ],
   "source": [
    "qc00 = QuantumCircuit(2,2)\n",
    "qc00.cx(0,1)\n",
    "qc00.measure(0,0)\n",
    "qc00.measure(1,1)\n",
    "\n",
    "qc00.draw()"
   ]
  },
  {
   "cell_type": "code",
   "execution_count": 49,
   "id": "3c253999",
   "metadata": {},
   "outputs": [
    {
     "data": {
      "image/png": "[encoded data removed]",
      "text/plain": [
       "<Figure size 504x360 with 1 Axes>"
      ]
     },
     "execution_count": 49,
     "metadata": {},
     "output_type": "execute_result"
    }
   ],
   "source": [
    "counts = execute(qc00, Aer.get_backend('qasm_simulator')).result().get_counts()\n",
    "plot_histogram(counts, title = \"Measurement results\")"
   ]
  },
  {
   "cell_type": "markdown",
   "id": "a580ed8c",
   "metadata": {},
   "source": [
    "#### Case 01 -> 11"
   ]
  },
  {
   "cell_type": "code",
   "execution_count": 53,
   "id": "4327d192",
   "metadata": {},
   "outputs": [
    {
     "data": {
      "text/html": [
       "<pre style=\"word-wrap: normal;white-space: pre;background: #fff0;line-height: 1.1;font-family: &quot;Courier New&quot;,Courier,monospace\">     ┌───┐     ┌─┐   \n",
       "q_0: ┤ X ├──■──┤M├───\n",
       "     └───┘┌─┴─┐└╥┘┌─┐\n",
       "q_1: ─────┤ X ├─╫─┤M├\n",
       "          └───┘ ║ └╥┘\n",
       "c: 2/═══════════╩══╩═\n",
       "                0  1 </pre>"
      ],
      "text/plain": [
       "     ┌───┐     ┌─┐   \n",
       "q_0: ┤ X ├──■──┤M├───\n",
       "     └───┘┌─┴─┐└╥┘┌─┐\n",
       "q_1: ─────┤ X ├─╫─┤M├\n",
       "          └───┘ ║ └╥┘\n",
       "c: 2/═══════════╩══╩═\n",
       "                0  1 "
      ]
     },
     "execution_count": 53,
     "metadata": {},
     "output_type": "execute_result"
    }
   ],
   "source": [
    "qc01 = QuantumCircuit(2,2)\n",
    "qc01.x(0) # Remember it goes from right to left, so 01 means 0 is qubit one and 1 is qubit zero.\n",
    "qc01.cx(0,1)\n",
    "qc01.measure(0,0)\n",
    "qc01.measure(1,1)\n",
    "\n",
    "qc01.draw()"
   ]
  },
  {
   "cell_type": "code",
   "execution_count": 54,
   "id": "ecab3cd4",
   "metadata": {},
   "outputs": [
    {
     "data": {
      "image/png": "[encoded data removed]",
      "text/plain": [
       "<Figure size 504x360 with 1 Axes>"
      ]
     },
     "execution_count": 54,
     "metadata": {},
     "output_type": "execute_result"
    }
   ],
   "source": [
    "counts = execute(qc01, Aer.get_backend('qasm_simulator')).result().get_counts()\n",
    "plot_histogram(counts, title = \"Measurement results\")"
   ]
  },
  {
   "cell_type": "markdown",
   "id": "9901c50c",
   "metadata": {},
   "source": [
    "#### Case 10 -> 10"
   ]
  },
  {
   "cell_type": "code",
   "execution_count": 56,
   "id": "a13c4e9c",
   "metadata": {},
   "outputs": [
    {
     "data": {
      "text/html": [
       "<pre style=\"word-wrap: normal;white-space: pre;background: #fff0;line-height: 1.1;font-family: &quot;Courier New&quot;,Courier,monospace\">               ┌─┐   \n",
       "q_0: ───────■──┤M├───\n",
       "     ┌───┐┌─┴─┐└╥┘┌─┐\n",
       "q_1: ┤ X ├┤ X ├─╫─┤M├\n",
       "     └───┘└───┘ ║ └╥┘\n",
       "c: 2/═══════════╩══╩═\n",
       "                0  1 </pre>"
      ],
      "text/plain": [
       "               ┌─┐   \n",
       "q_0: ───────■──┤M├───\n",
       "     ┌───┐┌─┴─┐└╥┘┌─┐\n",
       "q_1: ┤ X ├┤ X ├─╫─┤M├\n",
       "     └───┘└───┘ ║ └╥┘\n",
       "c: 2/═══════════╩══╩═\n",
       "                0  1 "
      ]
     },
     "execution_count": 56,
     "metadata": {},
     "output_type": "execute_result"
    }
   ],
   "source": [
    "qc02 = QuantumCircuit(2,2)\n",
    "qc02.x(1) \n",
    "qc02.cx(0,1)\n",
    "\n",
    "# Remember it goes from right to left, so 01 means 0 is qubit one and 1 is qubit zero.\n",
    "qc02.measure(0,0)\n",
    "qc02.measure(1,1)\n",
    "\n",
    "qc02.draw()"
   ]
  },
  {
   "cell_type": "code",
   "execution_count": 57,
   "id": "f22675a0",
   "metadata": {},
   "outputs": [
    {
     "data": {
      "image/png": "[encoded data removed]",
      "text/plain": [
       "<Figure size 504x360 with 1 Axes>"
      ]
     },
     "execution_count": 57,
     "metadata": {},
     "output_type": "execute_result"
    }
   ],
   "source": [
    "counts = execute(qc02, Aer.get_backend('qasm_simulator')).result().get_counts()\n",
    "plot_histogram(counts, title = \"Measurement results\")"
   ]
  },
  {
   "cell_type": "markdown",
   "id": "d000511a",
   "metadata": {},
   "source": [
    "#### Case 11 -> 01"
   ]
  },
  {
   "cell_type": "code",
   "execution_count": 65,
   "id": "0304f99c",
   "metadata": {},
   "outputs": [
    {
     "data": {
      "text/html": [
       "<pre style=\"word-wrap: normal;white-space: pre;background: #fff0;line-height: 1.1;font-family: &quot;Courier New&quot;,Courier,monospace\">     ┌───┐     ┌─┐   \n",
       "q_0: ┤ X ├──■──┤M├───\n",
       "     ├───┤┌─┴─┐└╥┘┌─┐\n",
       "q_1: ┤ X ├┤ X ├─╫─┤M├\n",
       "     └───┘└───┘ ║ └╥┘\n",
       "c: 2/═══════════╩══╩═\n",
       "                0  1 </pre>"
      ],
      "text/plain": [
       "     ┌───┐     ┌─┐   \n",
       "q_0: ┤ X ├──■──┤M├───\n",
       "     ├───┤┌─┴─┐└╥┘┌─┐\n",
       "q_1: ┤ X ├┤ X ├─╫─┤M├\n",
       "     └───┘└───┘ ║ └╥┘\n",
       "c: 2/═══════════╩══╩═\n",
       "                0  1 "
      ]
     },
     "execution_count": 65,
     "metadata": {},
     "output_type": "execute_result"
    }
   ],
   "source": [
    "qc03 = QuantumCircuit(2,2)\n",
    "qc03.x(0) # Remember it goes from right to left, so 01 means 0 is qubit one and 1 is qubit zero.\n",
    "qc03.x(1)\n",
    "qc03.cx(0,1)\n",
    "qc03.measure(0,0)\n",
    "qc03.measure(1,1)\n",
    "\n",
    "\n",
    "qc03.draw()"
   ]
  },
  {
   "cell_type": "code",
   "execution_count": 63,
   "id": "ebc4e317",
   "metadata": {},
   "outputs": [
    {
     "data": {
      "image/png": "[encoded data removed]",
      "text/plain": [
       "<Figure size 504x360 with 1 Axes>"
      ]
     },
     "execution_count": 63,
     "metadata": {},
     "output_type": "execute_result"
    }
   ],
   "source": [
    "counts = execute(qc03, Aer.get_backend('qasm_simulator')).result().get_counts()\n",
    "plot_histogram(counts, title = \"Measurement results\")"
   ]
  },
  {
   "cell_type": "markdown",
   "id": "dc1b0618",
   "metadata": {},
   "source": [
    "----"
   ]
  },
  {
   "cell_type": "markdown",
   "id": "64a76de0",
   "metadata": {},
   "source": [
    "### **Important Measurement Note**: \n",
    "Bits (Output) are **numbered** from right to left: bx...b4,b3,b2,b1,b0 \n",
    "\n",
    "\n",
    "So input 10011 => Q(0)=1, Q(1)=0, Q(2)=0, Q(3)=1, Q(4)=1  \n",
    "Will be output => b(4)=1, b(3)=0, b(2)=0, b(1)=1, b(0)=1\n",
    "\n",
    "**It doesn't matter how you \"number\" the input Qubits, but how you save them as outputs**  \n",
    "Check example below."
   ]
  },
  {
   "cell_type": "code",
   "execution_count": 108,
   "id": "a6c90c52",
   "metadata": {},
   "outputs": [
    {
     "data": {
      "image/png": "[encoded data removed]",
      "text/plain": [
       "<Figure size 504x360 with 1 Axes>"
      ]
     },
     "execution_count": 108,
     "metadata": {},
     "output_type": "execute_result"
    }
   ],
   "source": [
    "# Measurement 1\n",
    "# We have 1 Qubit and 7 Output bits\n",
    "qc_measure01 = QuantumCircuit(1,7)\n",
    "\n",
    "# Qubit is set to 1\n",
    "qc_measure01.x(0)\n",
    "\n",
    "# We save output in bit number 6\n",
    "qc_measure01.measure(0,6)\n",
    "\n",
    "# The ouput is the same\n",
    "counts = execute(qc_measure01, Aer.get_backend('qasm_simulator')).result().get_counts()\n",
    "plot_histogram(counts, title = \"Measurement results\")\n",
    "\n",
    "#Result: 1000000"
   ]
  },
  {
   "cell_type": "code",
   "execution_count": 110,
   "id": "e2a6fdd6",
   "metadata": {},
   "outputs": [
    {
     "data": {
      "image/png": "[encoded data removed]",
      "text/plain": [
       "<Figure size 504x360 with 1 Axes>"
      ]
     },
     "execution_count": 110,
     "metadata": {},
     "output_type": "execute_result"
    }
   ],
   "source": [
    "# Measurement 2\n",
    "# We have 1 Qubit and 7 Output bits\n",
    "qc_measure02 = QuantumCircuit(1,7)\n",
    "\n",
    "# Qubit is set to 1\n",
    "qc_measure02.x(0)\n",
    "\n",
    "# This time, we save output in bit number \n",
    "qc_measure02.measure(0,0)\n",
    "\n",
    "# The ouput is the same\n",
    "counts = execute(qc_measure02, Aer.get_backend('qasm_simulator')).result().get_counts()\n",
    "plot_histogram(counts, title = \"Measurement results\")\n",
    "\n",
    "#Result: 0000001"
   ]
  },
  {
   "cell_type": "markdown",
   "id": "3f99ff5f",
   "metadata": {},
   "source": [
    "So **careful** how we save the output."
   ]
  },
  {
   "cell_type": "markdown",
   "id": "bfd1ad06",
   "metadata": {},
   "source": [
    "Also, remember We can *measure* the other way round (measure one qubit before the other or viceversa) and the output would be the same:"
   ]
  },
  {
   "cell_type": "code",
   "execution_count": 111,
   "id": "50f51ac2",
   "metadata": {},
   "outputs": [
    {
     "data": {
      "text/html": [
       "<pre style=\"word-wrap: normal;white-space: pre;background: #fff0;line-height: 1.1;font-family: &quot;Courier New&quot;,Courier,monospace\">     ┌───┐     ┌─┐   \n",
       "q_0: ┤ X ├──■──┤M├───\n",
       "     ├───┤┌─┴─┐└╥┘┌─┐\n",
       "q_1: ┤ X ├┤ X ├─╫─┤M├\n",
       "     └───┘└───┘ ║ └╥┘\n",
       "c: 2/═══════════╩══╩═\n",
       "                0  1 </pre>"
      ],
      "text/plain": [
       "     ┌───┐     ┌─┐   \n",
       "q_0: ┤ X ├──■──┤M├───\n",
       "     ├───┤┌─┴─┐└╥┘┌─┐\n",
       "q_1: ┤ X ├┤ X ├─╫─┤M├\n",
       "     └───┘└───┘ ║ └╥┘\n",
       "c: 2/═══════════╩══╩═\n",
       "                0  1 "
      ]
     },
     "execution_count": 111,
     "metadata": {},
     "output_type": "execute_result"
    }
   ],
   "source": [
    "# Example\n",
    "qc03_ex = QuantumCircuit(2,2)\n",
    "qc03_ex.x(0)\n",
    "qc03_ex.x(1)\n",
    "qc03_ex.cx(0,1)\n",
    "\n",
    "# We do the measurement the other way round\n",
    "qc03_ex.measure(0,0)\n",
    "qc03_ex.measure(1,1)\n",
    "\n",
    "qc03_ex.draw()"
   ]
  },
  {
   "cell_type": "code",
   "execution_count": 68,
   "id": "0d70cd67",
   "metadata": {},
   "outputs": [
    {
     "data": {
      "image/png": "[encoded data removed]",
      "text/plain": [
       "<Figure size 504x360 with 1 Axes>"
      ]
     },
     "execution_count": 68,
     "metadata": {},
     "output_type": "execute_result"
    }
   ],
   "source": [
    "# The ouput is the same\n",
    "counts = execute(qc03_ex, Aer.get_backend('qasm_simulator')).result().get_counts()\n",
    "plot_histogram(counts, title = \"Measurement results\")"
   ]
  },
  {
   "cell_type": "markdown",
   "id": "adde4c9b",
   "metadata": {},
   "source": [
    "### Histogram\n",
    "It is also important to note that the numbers shown in the histogram represent the \"bit\" where the information of that Qubit is stored.\n",
    "\n",
    "So for example, we can start a Quantum Circuit with 2 Qubits and 5 output bits.    \n",
    "We will save the output of Qubit 0 in bit 0 and the output of Qubit 1 in bit 5.    \n",
    "Check the histogram image:"
   ]
  },
  {
   "cell_type": "code",
   "execution_count": 101,
   "id": "6f5deffd",
   "metadata": {},
   "outputs": [
    {
     "name": "stdout",
     "output_type": "stream",
     "text": [
      "4\n"
     ]
    },
    {
     "data": {
      "text/html": [
       "<pre style=\"word-wrap: normal;white-space: pre;background: #fff0;line-height: 1.1;font-family: &quot;Courier New&quot;,Courier,monospace\">     ┌───┐┌─┐   \n",
       "q_0: ┤ X ├┤M├───\n",
       "     ├───┤└╥┘┌─┐\n",
       "q_1: ┤ X ├─╫─┤M├\n",
       "     └───┘ ║ └╥┘\n",
       "c: 5/══════╩══╩═\n",
       "           0  4 </pre>"
      ],
      "text/plain": [
       "     ┌───┐┌─┐   \n",
       "q_0: ┤ X ├┤M├───\n",
       "     ├───┤└╥┘┌─┐\n",
       "q_1: ┤ X ├─╫─┤M├\n",
       "     └───┘ ║ └╥┘\n",
       "c: 5/══════╩══╩═\n",
       "           0  4 "
      ]
     },
     "execution_count": 101,
     "metadata": {},
     "output_type": "execute_result"
    }
   ],
   "source": [
    "# 2 Qubits and 5 Output bits\n",
    "qc_hist = QuantumCircuit(2,5)\n",
    "\n",
    "# To have different values we perform an x in both\n",
    "qc_hist.x(0)\n",
    "qc_hist.x(1)\n",
    "\n",
    "# Save output of Qubit 0 in bit number 0\n",
    "qc_hist.measure(0,0)\n",
    "# Save output of Qubit 1 in bit number 4 (the fifth one)\n",
    "qc_hist.measure(1,4)\n",
    "\n",
    "qc_hist.draw()"
   ]
  },
  {
   "cell_type": "markdown",
   "id": "03cb29f9",
   "metadata": {},
   "source": [
    "## Half-Adder"
   ]
  },
  {
   "cell_type": "markdown",
   "id": "b9755cdd",
   "metadata": {},
   "source": [
    "We are developing a half-adder.  \n",
    "The output should be:\n",
    "\n",
    "- 00 -> 0000\n",
    "- 01 -> 0110\n",
    "- 10 -> 0101\n",
    "- 11 -> 0011"
   ]
  },
  {
   "cell_type": "code",
   "execution_count": 130,
   "id": "1298e6e8",
   "metadata": {},
   "outputs": [
    {
     "data": {
      "text/html": [
       "<pre style=\"word-wrap: normal;white-space: pre;background: #fff0;line-height: 1.1;font-family: &quot;Courier New&quot;,Courier,monospace\">     ┌───┐ ░            ░ ┌─┐         \n",
       "q_0: ┤ X ├─░───■────────░─┤M├─────────\n",
       "     └───┘ ░   │        ░ └╥┘┌─┐      \n",
       "q_1: ──────░───┼────■───░──╫─┤M├──────\n",
       "           ░ ┌─┴─┐┌─┴─┐ ░  ║ └╥┘┌─┐   \n",
       "q_2: ──────░─┤ X ├┤ X ├─░──╫──╫─┤M├───\n",
       "           ░ └───┘└───┘ ░  ║  ║ └╥┘┌─┐\n",
       "q_3: ──────░────────────░──╫──╫──╫─┤M├\n",
       "           ░            ░  ║  ║  ║ └╥┘\n",
       "c: 4/══════════════════════╩══╩══╩══╩═\n",
       "                           0  1  2  3 </pre>"
      ],
      "text/plain": [
       "     ┌───┐ ░            ░ ┌─┐         \n",
       "q_0: ┤ X ├─░───■────────░─┤M├─────────\n",
       "     └───┘ ░   │        ░ └╥┘┌─┐      \n",
       "q_1: ──────░───┼────■───░──╫─┤M├──────\n",
       "           ░ ┌─┴─┐┌─┴─┐ ░  ║ └╥┘┌─┐   \n",
       "q_2: ──────░─┤ X ├┤ X ├─░──╫──╫─┤M├───\n",
       "           ░ └───┘└───┘ ░  ║  ║ └╥┘┌─┐\n",
       "q_3: ──────░────────────░──╫──╫──╫─┤M├\n",
       "           ░            ░  ║  ║  ║ └╥┘\n",
       "c: 4/══════════════════════╩══╩══╩══╩═\n",
       "                           0  1  2  3 "
      ]
     },
     "execution_count": 130,
     "metadata": {},
     "output_type": "execute_result"
    }
   ],
   "source": [
    "qc_ha = QuantumCircuit(4,4)\n",
    "\n",
    "# Uncomment one of the four input options to test the output,\n",
    "\n",
    "# Intput 1: 00\n",
    "# ---\n",
    "\n",
    "# Intput 2: 01\n",
    "# qc_ha.x(1)\n",
    "\n",
    "# Intput 3: 10\n",
    "# qc_ha.x(0) \n",
    "\n",
    "# Output 4: 11\n",
    "# qc_ha.x(0) \n",
    "# qc_ha.x(1) \n",
    "\n",
    "qc_ha.barrier()\n",
    "\n",
    "# use cnots to write the XOR of the inputs on qubit 2\n",
    "qc_ha.cx(0,2)\n",
    "qc_ha.cx(1,2)\n",
    "qc_ha.barrier()\n",
    "\n",
    "# extract outputs\n",
    "qc_ha.measure(0,0) # extract XOR value\n",
    "qc_ha.measure(1,1)\n",
    "qc_ha.measure(2,2)\n",
    "qc_ha.measure(3,3)\n",
    "\n",
    "\n",
    "qc_ha.draw()"
   ]
  },
  {
   "cell_type": "code",
   "execution_count": 131,
   "id": "e96289f3",
   "metadata": {},
   "outputs": [
    {
     "data": {
      "image/png": "[encoded data removed]",
      "text/plain": [
       "<Figure size 504x360 with 1 Axes>"
      ]
     },
     "execution_count": 131,
     "metadata": {},
     "output_type": "execute_result"
    }
   ],
   "source": [
    "counts = execute(qc_ha, Aer.get_backend('qasm_simulator')).result().get_counts()\n",
    "plot_histogram(counts, title = \"Measurement results\")"
   ]
  },
  {
   "cell_type": "markdown",
   "id": "bb344b76",
   "metadata": {},
   "source": [
    "## Toffoli Gate\n",
    "It is like an AND-Gate in classic computing.  \n",
    "Output should be:\n",
    "- 00 -> 00\n",
    "- 01 -> 01\n",
    "- 10 -> 01\n",
    "- 11 -> 10\n",
    "\n",
    "This basically is implementing a sum!"
   ]
  },
  {
   "cell_type": "code",
   "execution_count": 144,
   "id": "f0680720",
   "metadata": {},
   "outputs": [
    {
     "data": {
      "text/html": [
       "<pre style=\"word-wrap: normal;white-space: pre;background: #fff0;line-height: 1.1;font-family: &quot;Courier New&quot;,Courier,monospace\">      ░                 ░       \n",
       "q_0: ─░───■─────────■───░───────\n",
       "      ░   │         │   ░       \n",
       "q_1: ─░───┼────■────■───░───────\n",
       "      ░ ┌─┴─┐┌─┴─┐  │   ░ ┌─┐   \n",
       "q_2: ─░─┤ X ├┤ X ├──┼───░─┤M├───\n",
       "      ░ └───┘└───┘┌─┴─┐ ░ └╥┘┌─┐\n",
       "q_3: ─░───────────┤ X ├─░──╫─┤M├\n",
       "      ░           └───┘ ░  ║ └╥┘\n",
       "c: 4/══════════════════════╩══╩═\n",
       "                           0  1 </pre>"
      ],
      "text/plain": [
       "      ░                 ░       \n",
       "q_0: ─░───■─────────■───░───────\n",
       "      ░   │         │   ░       \n",
       "q_1: ─░───┼────■────■───░───────\n",
       "      ░ ┌─┴─┐┌─┴─┐  │   ░ ┌─┐   \n",
       "q_2: ─░─┤ X ├┤ X ├──┼───░─┤M├───\n",
       "      ░ └───┘└───┘┌─┴─┐ ░ └╥┘┌─┐\n",
       "q_3: ─░───────────┤ X ├─░──╫─┤M├\n",
       "      ░           └───┘ ░  ║ └╥┘\n",
       "c: 4/══════════════════════╩══╩═\n",
       "                           0  1 "
      ]
     },
     "execution_count": 144,
     "metadata": {},
     "output_type": "execute_result"
    }
   ],
   "source": [
    "qc_ha = QuantumCircuit(4,2)\n",
    "# encode inputs in qubits 0 and 1\n",
    "\n",
    "# Intput 1: 00\n",
    "# ---\n",
    "\n",
    "# Intput 2: 01\n",
    "# qc_ha.x(1)\n",
    "\n",
    "# Intput 3: 10\n",
    "# qc_ha.x(0) \n",
    "\n",
    "# Output 4: 11\n",
    "# qc_ha.x(0) \n",
    "# qc_ha.x(1) \n",
    "\n",
    "qc_ha.barrier()\n",
    "# use cnots to write the XOR of the inputs on qubit 2\n",
    "qc_ha.cx(0,2)\n",
    "qc_ha.cx(1,2)\n",
    "# use ccx to write the AND of the inputs on qubit 3\n",
    "qc_ha.ccx(0,1,3)\n",
    "qc_ha.barrier()\n",
    "\n",
    "# extract outputs\n",
    "qc_ha.measure(2,0)\n",
    "qc_ha.measure(3,1)\n",
    "\n",
    "qc_ha.draw()"
   ]
  },
  {
   "cell_type": "code",
   "execution_count": 145,
   "id": "18a9420b",
   "metadata": {},
   "outputs": [
    {
     "data": {
      "image/png": "[encoded data removed]",
      "text/plain": [
       "<Figure size 504x360 with 1 Axes>"
      ]
     },
     "execution_count": 145,
     "metadata": {},
     "output_type": "execute_result"
    }
   ],
   "source": [
    "counts = execute(qc_ha, Aer.get_backend('qasm_simulator')).result().get_counts()\n",
    "plot_histogram(counts, title = \"Measurement results\")"
   ]
  },
  {
   "cell_type": "markdown",
   "id": "2945b6ba",
   "metadata": {},
   "source": [
    "----"
   ]
  },
  {
   "cell_type": "code",
   "execution_count": null,
   "id": "79aa7370",
   "metadata": {},
   "outputs": [],
   "source": []
  }
 ],
 "metadata": {
  "kernelspec": {
   "display_name": "Python 3 (ipykernel)",
   "language": "python",
   "name": "python3"
  },
  "language_info": {
   "codemirror_mode": {
    "name": "ipython",
    "version": 3
   },
   "file_extension": ".py",
   "mimetype": "text/x-python",
   "name": "python",
   "nbconvert_exporter": "python",
   "pygments_lexer": "ipython3",
   "version": "3.9.6"
  }
 },
 "nbformat": 4,
 "nbformat_minor": 5
}
